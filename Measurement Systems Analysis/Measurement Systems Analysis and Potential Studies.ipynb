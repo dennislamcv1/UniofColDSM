{
 "cells": [
  {
   "cell_type": "code",
   "execution_count": 1,
   "metadata": {},
   "outputs": [],
   "source": [
    "import pandas as pd\n",
    "import numpy as np\n",
    "from statsmodels.formula.api import ols\n",
    "from statsmodels.stats.anova import anova_lm\n"
   ]
  },
  {
   "cell_type": "code",
   "execution_count": 2,
   "metadata": {},
   "outputs": [
    {
     "name": "stdout",
     "output_type": "stream",
     "text": [
      "   Part  Operator  Repetition    Value\n",
      "0     1         1           1  488.418\n",
      "1     2         1           1  484.798\n",
      "2     3         1           1  489.445\n",
      "3     4         1           1  485.758\n",
      "4     5         1           1  489.043\n",
      "Index(['Part', 'Operator', 'Repetition', 'Value'], dtype='object')\n",
      "<class 'pandas.core.frame.DataFrame'>\n",
      "RangeIndex: 40 entries, 0 to 39\n",
      "Data columns (total 4 columns):\n",
      " #   Column      Non-Null Count  Dtype  \n",
      "---  ------      --------------  -----  \n",
      " 0   Part        40 non-null     int64  \n",
      " 1   Operator    40 non-null     int64  \n",
      " 2   Repetition  40 non-null     int64  \n",
      " 3   Value       40 non-null     float64\n",
      "dtypes: float64(1), int64(3)\n",
      "memory usage: 1.4 KB\n"
     ]
    }
   ],
   "source": [
    "# Load the data\n",
    "df = pd.read_csv('height.dat', sep='\\t')\n",
    "\n",
    "# Display the first few rows to check the data\n",
    "print(df.head())\n",
    "\n",
    "print(df.columns)\n",
    "\n",
    "df.info()\n"
   ]
  },
  {
   "cell_type": "code",
   "execution_count": 3,
   "metadata": {},
   "outputs": [
    {
     "name": "stdout",
     "output_type": "stream",
     "text": [
      "                       df      sum_sq    mean_sq           F        PR(>F)\n",
      "C(Part)               9.0  276.387954  30.709773  117.041911  2.599400e-15\n",
      "C(Operator)           1.0    5.511578   5.511578   21.005873  1.802444e-04\n",
      "C(Part):C(Operator)   9.0    3.058264   0.339807    1.295082  2.992650e-01\n",
      "Residual             20.0    5.247654   0.262383         NaN           NaN\n"
     ]
    }
   ],
   "source": [
    "# Fit the ANOVA model\n",
    "model = ols('Value ~ C(Part) + C(Operator) + C(Part):C(Operator)', data=df).fit()\n",
    "\n",
    "# Perform the ANOVA\n",
    "anova_results = anova_lm(model)\n",
    "\n",
    "print(anova_results)\n",
    "\n"
   ]
  },
  {
   "cell_type": "code",
   "execution_count": 4,
   "metadata": {},
   "outputs": [],
   "source": [
    "ms_part = anova_results['mean_sq']['C(Part)']\n",
    "ms_operator = anova_results['mean_sq']['C(Operator)']\n",
    "ms_repeatability = anova_results['mean_sq']['Residual']\n",
    "\n",
    "# Number of repetitions per part per operator\n",
    "n_repetitions = df['Repetition'].nunique()\n",
    "\n"
   ]
  },
  {
   "cell_type": "code",
   "execution_count": 5,
   "metadata": {},
   "outputs": [],
   "source": [
    "# Variance components\n",
    "repeatability_variance = ms_repeatability\n",
    "reproducibility_variance = (ms_operator - ms_repeatability) / n_repetitions\n",
    "part_to_part_variance = (ms_part - ms_repeatability) / (n_repetitions * df['Operator'].nunique())\n",
    "\n",
    "# Total GR&R Variance (sum of repeatability and reproducibility)\n",
    "total_grr_variance = repeatability_variance + reproducibility_variance\n",
    "\n",
    "# Total variance (sum of part-to-part and total GR&R variance)\n",
    "total_variance = total_grr_variance + part_to_part_variance\n"
   ]
  },
  {
   "cell_type": "code",
   "execution_count": 6,
   "metadata": {},
   "outputs": [
    {
     "name": "stdout",
     "output_type": "stream",
     "text": [
      "Percent Tolerance for Total GR&R: 11.33%\n"
     ]
    }
   ],
   "source": [
    "# Given tolerance range\n",
    "tolerance_range = 495 - 480  # This is 15 units\n",
    "\n",
    "# Standard deviation for Total GR&R\n",
    "std_total_grr = np.sqrt(total_grr_variance)\n",
    "\n",
    "# Percent Tolerance for Total GR&R\n",
    "percent_tolerance_grr = (std_total_grr / tolerance_range) * 100\n",
    "print(f\"Percent Tolerance for Total GR&R: {percent_tolerance_grr:.2f}%\")\n"
   ]
  },
  {
   "cell_type": "code",
   "execution_count": 7,
   "metadata": {},
   "outputs": [
    {
     "name": "stdout",
     "output_type": "stream",
     "text": [
      "Percent Contribution for Total GR&R: 27.50%\n"
     ]
    }
   ],
   "source": [
    "# Percent Contribution for Total GR&R\n",
    "percent_contribution_grr = (total_grr_variance / total_variance) * 100\n",
    "print(f\"Percent Contribution for Total GR&R: {percent_contribution_grr:.2f}%\")\n"
   ]
  },
  {
   "cell_type": "code",
   "execution_count": null,
   "metadata": {},
   "outputs": [],
   "source": []
  },
  {
   "cell_type": "code",
   "execution_count": null,
   "metadata": {},
   "outputs": [],
   "source": []
  }
 ],
 "metadata": {
  "kernelspec": {
   "display_name": "base",
   "language": "python",
   "name": "python3"
  },
  "language_info": {
   "codemirror_mode": {
    "name": "ipython",
    "version": 3
   },
   "file_extension": ".py",
   "mimetype": "text/x-python",
   "name": "python",
   "nbconvert_exporter": "python",
   "pygments_lexer": "ipython3",
   "version": "3.10.9"
  }
 },
 "nbformat": 4,
 "nbformat_minor": 2
}
