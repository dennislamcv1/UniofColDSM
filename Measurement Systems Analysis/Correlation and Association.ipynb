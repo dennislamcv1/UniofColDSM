{
 "cells": [
  {
   "cell_type": "markdown",
   "id": "3a34cac5-b3bb-445c-afd8-2b04c2fa39aa",
   "metadata": {},
   "source": [
    "The Sales Department manager of a service company has been studying computer reports (regarding customer service by telephone) over a period of several weeks. One of the characteristics of particular interest to her is the time required by each clerk to receive orders and book shipments. The manager is interested in knowing if the amount of order processing time on the phone is associated with the clerk receiving the call. Choose and calculate the value of an appropriate statistic to help her answer the research question. Hint: “Is there a relationship between processing time and clerk?”\n",
    "\n",
    "The data collected by the manager are presented d in the data file named Sales.dat. Use a Type I error rate of α=0.05.\n",
    "\n",
    "What conclusion did you make regarding the null hypothesis?"
   ]
  },
  {
   "cell_type": "code",
   "execution_count": 1,
   "id": "a5a0a75c-8833-47b8-85d2-a8ea85f50939",
   "metadata": {},
   "outputs": [
    {
     "data": {
      "text/html": [
       "<div>\n",
       "<style scoped>\n",
       "    .dataframe tbody tr th:only-of-type {\n",
       "        vertical-align: middle;\n",
       "    }\n",
       "\n",
       "    .dataframe tbody tr th {\n",
       "        vertical-align: top;\n",
       "    }\n",
       "\n",
       "    .dataframe thead th {\n",
       "        text-align: right;\n",
       "    }\n",
       "</style>\n",
       "<table border=\"1\" class=\"dataframe\">\n",
       "  <thead>\n",
       "    <tr style=\"text-align: right;\">\n",
       "      <th></th>\n",
       "      <th>clerk</th>\n",
       "      <th>time</th>\n",
       "    </tr>\n",
       "  </thead>\n",
       "  <tbody>\n",
       "    <tr>\n",
       "      <th>0</th>\n",
       "      <td>1</td>\n",
       "      <td>473</td>\n",
       "    </tr>\n",
       "    <tr>\n",
       "      <th>1</th>\n",
       "      <td>1</td>\n",
       "      <td>189</td>\n",
       "    </tr>\n",
       "    <tr>\n",
       "      <th>2</th>\n",
       "      <td>1</td>\n",
       "      <td>140</td>\n",
       "    </tr>\n",
       "    <tr>\n",
       "      <th>3</th>\n",
       "      <td>1</td>\n",
       "      <td>125</td>\n",
       "    </tr>\n",
       "    <tr>\n",
       "      <th>4</th>\n",
       "      <td>1</td>\n",
       "      <td>46</td>\n",
       "    </tr>\n",
       "  </tbody>\n",
       "</table>\n",
       "</div>"
      ],
      "text/plain": [
       "   clerk  time\n",
       "0      1   473\n",
       "1      1   189\n",
       "2      1   140\n",
       "3      1   125\n",
       "4      1    46"
      ]
     },
     "execution_count": 1,
     "metadata": {},
     "output_type": "execute_result"
    }
   ],
   "source": [
    "import pandas as pd\n",
    "import scipy.stats as stats\n",
    "\n",
    "# Load the data from the provided file\n",
    "file_path = 'Sales.dat'\n",
    "data = pd.read_csv(file_path, delim_whitespace=True)\n",
    "\n",
    "# Display the first few rows of the data to understand its structure\n",
    "data.head()\n"
   ]
  },
  {
   "cell_type": "code",
   "execution_count": 2,
   "id": "e0820f8c-c468-48ee-8585-ea64871be3ef",
   "metadata": {},
   "outputs": [
    {
     "data": {
      "text/plain": [
       "(9.440441746187224, 0.004691003478840473)"
      ]
     },
     "execution_count": 2,
     "metadata": {},
     "output_type": "execute_result"
    }
   ],
   "source": [
    "# Perform a one-way ANOVA test\n",
    "anova_result = stats.f_oneway(\n",
    "    *[data[data['clerk'] == clerk]['time'] for clerk in data['clerk'].unique()]\n",
    ")\n",
    "\n",
    "# Extract the F-statistic and p-value\n",
    "f_statistic = anova_result.statistic\n",
    "p_value = anova_result.pvalue\n",
    "\n",
    "f_statistic, p_value\n"
   ]
  },
  {
   "cell_type": "markdown",
   "id": "bf0c1103-90a5-45c4-a92c-cf2886296f5e",
   "metadata": {},
   "source": [
    "Problem 5\n",
    "\n",
    "A beverage company’s Marketing Department recently distributed a consumer survey questionnaire regarding beverage containers. One of the questions requested the consumer to identify their preference of beverage container type (ct), either glass, aluminum, or plastic. The survey questionnaires were distributed nationwide to each of four geographical regions (region): Northwest (NW), Northeast (NE), Southwest (SW), and Southeast (SE). The beverage company was interested in knowing if there was a relationship between the type of beverage container preferred by consumers and the geographical region in which they lived. One of the marketing employees organized the data as shown below. The value in each cell represents the frequency of consumers preferring that type of container within the corresponding geographical region. Use an appropriate test to assist the Marketing Department in answering the research question. These data are also in the file named Beverage.dat. Use a significance level α=0.05."
   ]
  },
  {
   "cell_type": "code",
   "execution_count": 3,
   "id": "3c85cb4b-1207-468a-bedc-cce9484c98e1",
   "metadata": {},
   "outputs": [
    {
     "data": {
      "text/html": [
       "<div>\n",
       "<style scoped>\n",
       "    .dataframe tbody tr th:only-of-type {\n",
       "        vertical-align: middle;\n",
       "    }\n",
       "\n",
       "    .dataframe tbody tr th {\n",
       "        vertical-align: top;\n",
       "    }\n",
       "\n",
       "    .dataframe thead th {\n",
       "        text-align: right;\n",
       "    }\n",
       "</style>\n",
       "<table border=\"1\" class=\"dataframe\">\n",
       "  <thead>\n",
       "    <tr style=\"text-align: right;\">\n",
       "      <th>Region</th>\n",
       "      <th>1</th>\n",
       "      <th>2</th>\n",
       "      <th>3</th>\n",
       "    </tr>\n",
       "    <tr>\n",
       "      <th>Container_Type</th>\n",
       "      <th></th>\n",
       "      <th></th>\n",
       "      <th></th>\n",
       "    </tr>\n",
       "  </thead>\n",
       "  <tbody>\n",
       "    <tr>\n",
       "      <th>1</th>\n",
       "      <td>165.0</td>\n",
       "      <td>77.0</td>\n",
       "      <td>58.0</td>\n",
       "    </tr>\n",
       "    <tr>\n",
       "      <th>2</th>\n",
       "      <td>73.0</td>\n",
       "      <td>98.0</td>\n",
       "      <td>131.0</td>\n",
       "    </tr>\n",
       "  </tbody>\n",
       "</table>\n",
       "</div>"
      ],
      "text/plain": [
       "Region              1     2      3\n",
       "Container_Type                    \n",
       "1               165.0  77.0   58.0\n",
       "2                73.0  98.0  131.0"
      ]
     },
     "execution_count": 3,
     "metadata": {},
     "output_type": "execute_result"
    }
   ],
   "source": [
    "import pandas as pd\n",
    "import scipy.stats as stats\n",
    "\n",
    "# Load the data from the .dat file\n",
    "file_path = 'Beverage.dat'\n",
    "data = pd.read_csv(file_path, delim_whitespace=True, header=None)\n",
    "\n",
    "# Set up the table with appropriate column names\n",
    "data.columns = ['Container_Type', 'Region', 'Count']\n",
    "\n",
    "# Convert the data to numeric, coercing any non-numeric values to NaN (then we can drop them)\n",
    "data['Count'] = pd.to_numeric(data['Count'], errors='coerce')\n",
    "\n",
    "# Drop any rows with NaN values that may have resulted from non-numeric entries\n",
    "data = data.dropna()\n",
    "\n",
    "# Reshape the data into a pivot table (contingency table)\n",
    "pivot_table = data.pivot(index='Container_Type', columns='Region', values='Count')\n",
    "\n",
    "# Clean up the pivot table (remove extra rows and columns if present)\n",
    "pivot_table = pivot_table.iloc[:-1, :-1]  # Adjust based on the file's content\n",
    "\n",
    "pivot_table\n"
   ]
  },
  {
   "cell_type": "code",
   "execution_count": 4,
   "id": "d76d8436-bbd6-4a4e-b20e-3ff3b0354ee0",
   "metadata": {},
   "outputs": [
    {
     "name": "stdout",
     "output_type": "stream",
     "text": [
      "Chi-Square Statistic: 66.27287936823981\n",
      "p-value: 4.064686876130899e-15\n",
      "Degrees of Freedom: 2\n",
      "Expected Frequencies:\n",
      "[[118.60465116  87.20930233  94.18604651]\n",
      " [119.39534884  87.79069767  94.81395349]]\n",
      "Reject the null hypothesis. There is a significant relationship between container type and region.\n"
     ]
    }
   ],
   "source": [
    "# Perform the Chi-Square Test for Independence\n",
    "chi2, p_value, dof, expected = stats.chi2_contingency(pivot_table)\n",
    "\n",
    "# Display the results\n",
    "print(f\"Chi-Square Statistic: {chi2}\")\n",
    "print(f\"p-value: {p_value}\")\n",
    "print(f\"Degrees of Freedom: {dof}\")\n",
    "print(\"Expected Frequencies:\")\n",
    "print(expected)\n",
    "\n",
    "# Interpretation based on p-value\n",
    "alpha = 0.05\n",
    "if p_value < alpha:\n",
    "    print(\"Reject the null hypothesis. There is a significant relationship between container type and region.\")\n",
    "else:\n",
    "    print(\"Fail to reject the null hypothesis. There is no significant relationship between container type and region.\")"
   ]
  },
  {
   "cell_type": "code",
   "execution_count": null,
   "id": "f81da227-0a40-43eb-97f2-8c5239c003df",
   "metadata": {},
   "outputs": [],
   "source": []
  }
 ],
 "metadata": {
  "kernelspec": {
   "display_name": "Python 3 (ipykernel)",
   "language": "python",
   "name": "python3"
  },
  "language_info": {
   "codemirror_mode": {
    "name": "ipython",
    "version": 3
   },
   "file_extension": ".py",
   "mimetype": "text/x-python",
   "name": "python",
   "nbconvert_exporter": "python",
   "pygments_lexer": "ipython3",
   "version": "3.10.9"
  }
 },
 "nbformat": 4,
 "nbformat_minor": 5
}
